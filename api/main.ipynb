{
 "cells": [
  {
   "cell_type": "code",
   "execution_count": 1,
   "metadata": {},
   "outputs": [
    {
     "data": {
      "text/plain": [
       "True"
      ]
     },
     "execution_count": 1,
     "metadata": {},
     "output_type": "execute_result"
    }
   ],
   "source": [
    "from dotenv import load_dotenv\n",
    "\n",
    "load_dotenv()"
   ]
  },
  {
   "cell_type": "code",
   "execution_count": 2,
   "metadata": {},
   "outputs": [],
   "source": [
    "\n",
    "from repositories.youtube_repository import YoutubeRepository\n",
    "\n",
    "\n",
    "yt_repo = YoutubeRepository()\n",
    "\n",
    "video_id = \"dV-UMhQtC34\"\n",
    "\n",
    "yt_video = await yt_repo.get_video_by_id(video_id)\n",
    "yt_comments = await yt_repo.get_comments_by_video_id(video_id, 5)"
   ]
  },
  {
   "cell_type": "code",
   "execution_count": 3,
   "metadata": {},
   "outputs": [
    {
     "data": {
      "text/plain": [
       "[{'id': 'UgwYDSAwYmgf-HwRgwV4AaABAg',\n",
       "  'sentiment': -0.8,\n",
       "  'justification': 'It expresses strong negative sentiment towards Macron and a preference for Putin, which is related to the European security context but in a critical tone.',\n",
       "  'text': \"Macron qui combat la qui mais pendant ce temps mène une guerre sanglante au nord mali 🇲🇱 contre nous les maliens c'est drôle coup d'un coup j'aime Vladimir poutine 🇷🇺\"},\n",
       " {'id': 'UgzUbYx3WLCxk-gWiiB4AaABAg',\n",
       "  'sentiment': None,\n",
       "  'justification': \"It is too vague and lacks context to determine relevance or sentiment in relation to the video's title.\",\n",
       "  'text': 'Garde ta guerre'},\n",
       " {'id': 'UgxHvVcqLHlvTPii_Y94AaABAg',\n",
       "  'sentiment': -0.5,\n",
       "  'justification': 'It shows negative sentiment by accusing the speaker of dishonesty, which can be indirectly related to the discourse on security and trustworthiness in the European context.',\n",
       "  'text': 'Pourquoi tu accuses toujours les autres pas vous regarder comment tu ment'},\n",
       " {'id': 'Ugxs84P2kw2IffBdlIp4AaABAg',\n",
       "  'sentiment': 0.9,\n",
       "  'justification': 'It displays strong positive sentiment towards the clarity and importance of the content discussed about European security and the Ukraine war.',\n",
       "  'text': \"C'etait superbe! Merci d'avoir pris le temps d'expliquer clairement et en toute simplicite les enjeux de la securite en Europe et la guerre en Ukraine. Ce dialogue direct et sans filtre avec les citoyens est tres important et irremplacable. J'ai beaucoup appris. Apres les declarations outrancieres de Donald Trump et de son equipe ces derniers jours, j'en etais a me demander ce qu'il adviendra de la securite en Europe.\"},\n",
       " {'id': 'UgywGOh5wUO4Myw8mOR4AaABAg',\n",
       "  'sentiment': None,\n",
       "  'justification': 'It refers to a gesture in the video but does not provide relevant sentiment regarding the topic of European security or Ukraine.',\n",
       "  'text': \"Pas mal le doigt d'honneur placé de façon subliminale a 01:28 😂😂😂 en réponse à ces détracteurs\"}]"
      ]
     },
     "execution_count": 3,
     "metadata": {},
     "output_type": "execute_result"
    }
   ],
   "source": [
    "from services.sentiment_analyzer_service import SentimentAnalyserService\n",
    "\n",
    "\n",
    "analyzer = SentimentAnalyserService()\n",
    "\n",
    "scores = analyzer.analyze_comments(yt_video, yt_comments)\n",
    "scores\n"
   ]
  },
  {
   "cell_type": "code",
   "execution_count": 4,
   "metadata": {},
   "outputs": [],
   "source": [
    "# from langchain_core.output_parsers import JsonOutputParser\n",
    "\n",
    "\n",
    "# parser = JsonOutputParser()\n",
    "\n",
    "# [parser.parse(score) for score in scores.split(\"--\")]\n",
    "\n"
   ]
  },
  {
   "cell_type": "code",
   "execution_count": 5,
   "metadata": {},
   "outputs": [],
   "source": [
    "# from langchain_core.output_parsers import JsonOutputParser\n",
    "# from pydantic import BaseModel, Field\n",
    "\n",
    "# class Joke(BaseModel):\n",
    "#     setup: str = Field(description=\"question to set up a joke\")\n",
    "#     punchline: str = Field(description=\"answer to resolve the joke\")\n",
    "\n",
    "# parser = JsonOutputParser()\n",
    "# parser.get_format_instructions()"
   ]
  },
  {
   "cell_type": "code",
   "execution_count": null,
   "metadata": {},
   "outputs": [],
   "source": []
  }
 ],
 "metadata": {
  "kernelspec": {
   "display_name": ".venv",
   "language": "python",
   "name": "python3"
  },
  "language_info": {
   "codemirror_mode": {
    "name": "ipython",
    "version": 3
   },
   "file_extension": ".py",
   "mimetype": "text/x-python",
   "name": "python",
   "nbconvert_exporter": "python",
   "pygments_lexer": "ipython3",
   "version": "3.10.12"
  }
 },
 "nbformat": 4,
 "nbformat_minor": 2
}
